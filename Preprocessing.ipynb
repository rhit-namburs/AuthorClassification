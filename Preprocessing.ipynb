{
 "cells": [
  {
   "cell_type": "code",
   "execution_count": 34,
   "id": "a0481c39",
   "metadata": {},
   "outputs": [],
   "source": [
    "import re\n",
    "import nltk\n",
    "nltk.download('stopwords')\n",
    "from nltk.corpus import stopwords\n",
    "def readFile(fileName):\n",
    "    file = open(fileName,'r')\n",
    "    text = file.read()\n",
    "    file.close()\n",
    "    return text\n",
    "\n",
    "def cleanFile(file):\n",
    "    file = re.sub(r'[^\\w\\s]', '', file)\n",
    "    tokens = file.split()\n",
    "    #Lowercase everything\n",
    "    tokens = (map(lambda x: x.lower(), tokens))\n",
    "    #Remove anything that isn't alphabetical(i.e. numbers,emails)\n",
    "    tokens = [word for word in tokens if word.isalpha() and \"http\" not in word]\n",
    "    # filter out stop words(words that offer no meaning)\n",
    "    stop_words = set(stopwords.words('english'))\n",
    "    tokens = [w for w in tokens if not w in stop_words]\n",
    "    #get rid of tokens that are 1 letter(No value)\n",
    "    tokens = [word for word in tokens if len(word) > 1]\n",
    "    print(tokens)\n",
    "    return tokens"
   ]
  },
  {
   "cell_type": "code",
   "execution_count": 76,
   "id": "c72eb467",
   "metadata": {},
   "outputs": [
    {
     "name": "stdout",
     "output_type": "stream",
     "text": [
      "['internet', 'may', 'overflowing', 'new', 'technology', 'crime', 'cyberspace', 'still', 'oldfashioned', 'variety', 'national', 'consumers', 'league', 'said', 'wednesday', 'popular', 'scam', 'internet', 'pyramid', 'scheme', 'early', 'investors', 'bogus', 'fund', 'paid', 'deposits', 'later', 'investors', 'league', 'nonprofit', 'consumer', 'advocacy', 'group', 'tracks', 'web', 'scams', 'site', 'set', 'world', 'wide', 'web', 'february', 'called', 'internet', 'fraud', 'watch', 'site', 'collects', 'reports', 'directly', 'consumers', 'widely', 'praised', 'law', 'enforcement', 'agencies', 'consumers', 'suspect', 'scam', 'internet', 'critical', 'information', 'said', 'jodie', 'bernstein', 'director', 'federal', 'trade', 'commissions', 'bureau', 'consumer', 'protection', 'internet', 'fraud', 'watch', 'major', 'help', 'ftc', 'identifying', 'particular', 'scams', 'infancy', 'may', 'example', 'commission', 'used', 'internet', 'reports', 'shut', 'site', 'run', 'fortuna', 'alliance', 'taken', 'million', 'promising', 'investors', 'could', 'earn', 'month', 'initial', 'deposit', 'instead', 'fortuna', 'kept', 'money', 'commission', 'charged', 'fraud', 'reports', 'leagues', 'site', 'visited', 'times', 'forwarded', 'local', 'state', 'federal', 'authorities', 'secondmostpopular', 'internet', 'scam', 'league', 'said', 'sale', 'bogus', 'internet', 'services', 'custom', 'designed', 'web', 'sites', 'internet', 'access', 'accounts', 'third', 'place', 'crooks', 'sell', 'computer', 'equipment', 'memory', 'chips', 'sound', 'boards', 'net', 'deliver', 'significantly', 'lower', 'quality', 'goods', 'nothing', 'league', 'said', 'top', 'scams', 'involve', 'business', 'opportunities', 'con', 'artists', 'may', 'offer', 'shares', 'business', 'franchise', 'using', 'unreasonable', 'predictions', 'misrepresentations', 'one', 'popular', 'scheme', 'promised', 'let', 'consumers', 'get', 'rich', 'working', 'home', 'league', 'also', 'announced', 'tuesday', 'nationsbank', 'donated', 'become', 'sponsor', 'fraud', 'watch', 'site']\n"
     ]
    }
   ],
   "source": [
    "myFile = readFile('C50train/AaronPressman\\106247newsML.txt')\n",
    "myCleanFile = cleanFile(myFile)"
   ]
  },
  {
   "cell_type": "code",
   "execution_count": 59,
   "id": "23e40aed",
   "metadata": {},
   "outputs": [],
   "source": [
    "import os,glob\n",
    "def allFilesFromPerson(name):\n",
    "    folder_path = './C50train/' + name\n",
    "    myFileList = []\n",
    "    for filename in glob.glob(os.path.join(folder_path, '*.txt')):\n",
    "        with open(filename, 'r') as f:\n",
    "            text = f.read()\n",
    "            myFileList.append(filename)\n",
    "    return myFileList\n",
    "def grabCandidateNames():\n",
    "    folder = './C50train'\n",
    "    sub_folders = [name for name in os.listdir(folder) if os.path.isdir(os.path.join(folder,name))]\n",
    "    return sub_folders\n"
   ]
  },
  {
   "cell_type": "code",
   "execution_count": null,
   "id": "e3870dc4",
   "metadata": {},
   "outputs": [],
   "source": []
  },
  {
   "cell_type": "code",
   "execution_count": null,
   "id": "d021311f",
   "metadata": {},
   "outputs": [],
   "source": []
  },
  {
   "cell_type": "code",
   "execution_count": 45,
   "id": "4e351afa",
   "metadata": {},
   "outputs": [],
   "source": []
  },
  {
   "cell_type": "code",
   "execution_count": 46,
   "id": "46adc0fa",
   "metadata": {},
   "outputs": [
    {
     "data": {
      "text/plain": [
       "['AaronPressman',\n",
       " 'AlanCrosby',\n",
       " 'AlexanderSmith',\n",
       " 'BenjaminKangLim',\n",
       " 'BernardHickey',\n",
       " 'BradDorfman',\n",
       " 'DarrenSchuettler']"
      ]
     },
     "execution_count": 46,
     "metadata": {},
     "output_type": "execute_result"
    }
   ],
   "source": []
  },
  {
   "cell_type": "code",
   "execution_count": null,
   "id": "262a5adc",
   "metadata": {},
   "outputs": [],
   "source": []
  }
 ],
 "metadata": {
  "kernelspec": {
   "display_name": "Python 3",
   "language": "python",
   "name": "python3"
  },
  "language_info": {
   "codemirror_mode": {
    "name": "ipython",
    "version": 3
   },
   "file_extension": ".py",
   "mimetype": "text/x-python",
   "name": "python",
   "nbconvert_exporter": "python",
   "pygments_lexer": "ipython3",
   "version": "3.8.8"
  }
 },
 "nbformat": 4,
 "nbformat_minor": 5
}
