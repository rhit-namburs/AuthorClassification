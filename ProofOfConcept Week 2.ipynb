{
 "cells": [
  {
   "cell_type": "code",
   "execution_count": 1,
   "id": "7259b910",
   "metadata": {},
   "outputs": [],
   "source": [
    "# the basic workflow for each document is as follows\n",
    "# https://www.tensorflow.org/tutorials/load_data/text#train_the_model\n",
    "# Author: Jackson Hajer"
   ]
  },
  {
   "cell_type": "code",
   "execution_count": 10,
   "id": "d62c5ec8",
   "metadata": {},
   "outputs": [],
   "source": [
    "import os\n",
    "from tensorflow.data import AUTOTUNE\n",
    "from tensorflow import expand_dims\n",
    "from tensorflow.keras.preprocessing.text import Tokenizer\n",
    "from tensorflow.keras.models import Sequential\n",
    "from tensorflow.keras.layers import TextVectorization\n",
    "from tensorflow.keras.losses import SparseCategoricalCrossentropy\n",
    "from tensorflow.keras.layers import Dense,GlobalMaxPooling1D,Embedding, Conv1D\n",
    "from tensorflow.keras.optimizers import Adam\n",
    "from tensorflow.keras.preprocessing import text_dataset_from_directory\n",
    "from tensorflow.keras.preprocessing.sequence import pad_sequences"
   ]
  },
  {
   "cell_type": "code",
   "execution_count": 11,
   "id": "83dc7fa9",
   "metadata": {},
   "outputs": [
    {
     "name": "stdout",
     "output_type": "stream",
     "text": [
      "Found 2500 files belonging to 50 classes.\n",
      "Found 2500 files belonging to 50 classes.\n"
     ]
    }
   ],
   "source": [
    "fileloc_train = \"./C50train/\"\n",
    "fileloc_test = \"./C50test/\"\n",
    "articles_train = []\n",
    "articles_test = []\n",
    "labels_train = []\n",
    "label_names = []\n",
    "\n",
    "data_set_train = text_dataset_from_directory(fileloc_train,batch_size=50)\n",
    "data_set_test = text_dataset_from_directory(fileloc_test,batch_size=50)"
   ]
  },
  {
   "cell_type": "code",
   "execution_count": 12,
   "id": "c5fa8946",
   "metadata": {},
   "outputs": [],
   "source": [
    "MAX_SEQUENCE_LENGTH = 250\n",
    "VOCAB_SIZE = 10000\n",
    "int_vectorize_layer = TextVectorization(\n",
    "    max_tokens=VOCAB_SIZE,\n",
    "    output_mode='int',\n",
    "    output_sequence_length=MAX_SEQUENCE_LENGTH)"
   ]
  },
  {
   "cell_type": "code",
   "execution_count": 18,
   "id": "c2e59610",
   "metadata": {},
   "outputs": [],
   "source": [
    "train_text = data_set_train.map(lambda text, labels: text)\n",
    "int_vectorize_layer.adapt(train_text)"
   ]
  },
  {
   "cell_type": "code",
   "execution_count": 19,
   "id": "9d124475",
   "metadata": {},
   "outputs": [],
   "source": [
    "def int_vectorize_text(text, label):\n",
    "  text = expand_dims(text, -1)\n",
    "  return int_vectorize_layer(text), label\n",
    "\n",
    "def configure_dataset(dataset):\n",
    "  return dataset.cache().prefetch(buffer_size=AUTOTUNE)"
   ]
  },
  {
   "cell_type": "code",
   "execution_count": 20,
   "id": "1b720af1",
   "metadata": {},
   "outputs": [],
   "source": [
    "int_train_ds = data_set_train.map(int_vectorize_text)\n",
    "int_test_ds = data_set_test.map(int_vectorize_text)"
   ]
  },
  {
   "cell_type": "code",
   "execution_count": 21,
   "id": "dd6cdaa3",
   "metadata": {},
   "outputs": [],
   "source": [
    "int_train_ds = configure_dataset(int_train_ds)\n",
    "int_test_ds = configure_dataset(int_test_ds)"
   ]
  },
  {
   "cell_type": "code",
   "execution_count": 35,
   "id": "de56b7d9",
   "metadata": {},
   "outputs": [],
   "source": [
    "def create_model(vocab_size, num_labels):\n",
    "  model = Sequential([\n",
    "      Embedding(vocab_size, 64, mask_zero=True),\n",
    "      Conv1D(64, 5, padding=\"valid\", activation=\"sigmoid\", strides=2),\n",
    "      GlobalMaxPooling1D(),\n",
    "      Dense(50,activation='softmax')\n",
    "  ])\n",
    "  return model"
   ]
  },
  {
   "cell_type": "code",
   "execution_count": 38,
   "id": "0eee191f",
   "metadata": {},
   "outputs": [
    {
     "name": "stdout",
     "output_type": "stream",
     "text": [
      "Epoch 1/50\n",
      "50/50 [==============================] - 2s 24ms/step - loss: 3.9751 - accuracy: 0.0172 - val_loss: 3.9171 - val_accuracy: 0.0200\n",
      "Epoch 2/50\n",
      "50/50 [==============================] - 1s 21ms/step - loss: 3.9046 - accuracy: 0.0272 - val_loss: 3.9051 - val_accuracy: 0.0224\n",
      "Epoch 3/50\n",
      "50/50 [==============================] - 1s 21ms/step - loss: 3.8815 - accuracy: 0.0860 - val_loss: 3.8914 - val_accuracy: 0.0536\n",
      "Epoch 4/50\n",
      "50/50 [==============================] - 1s 23ms/step - loss: 3.8417 - accuracy: 0.1892 - val_loss: 3.8618 - val_accuracy: 0.0800\n",
      "Epoch 5/50\n",
      "50/50 [==============================] - 1s 23ms/step - loss: 3.7774 - accuracy: 0.3192 - val_loss: 3.8172 - val_accuracy: 0.1304\n",
      "Epoch 6/50\n",
      "50/50 [==============================] - 1s 23ms/step - loss: 3.6925 - accuracy: 0.4608 - val_loss: 3.7659 - val_accuracy: 0.1700\n",
      "Epoch 7/50\n",
      "50/50 [==============================] - 1s 22ms/step - loss: 3.5925 - accuracy: 0.6108 - val_loss: 3.7088 - val_accuracy: 0.2192\n",
      "Epoch 8/50\n",
      "50/50 [==============================] - 1s 23ms/step - loss: 3.4791 - accuracy: 0.7264 - val_loss: 3.6456 - val_accuracy: 0.2708\n",
      "Epoch 9/50\n",
      "50/50 [==============================] - 1s 22ms/step - loss: 3.3511 - accuracy: 0.7988 - val_loss: 3.5736 - val_accuracy: 0.3128\n",
      "Epoch 10/50\n",
      "50/50 [==============================] - 1s 21ms/step - loss: 3.2039 - accuracy: 0.8500 - val_loss: 3.4882 - val_accuracy: 0.3420\n",
      "Epoch 11/50\n",
      "50/50 [==============================] - 1s 23ms/step - loss: 3.0289 - accuracy: 0.8768 - val_loss: 3.3851 - val_accuracy: 0.3584\n",
      "Epoch 12/50\n",
      "50/50 [==============================] - 1s 21ms/step - loss: 2.8196 - accuracy: 0.8988 - val_loss: 3.2635 - val_accuracy: 0.3744\n",
      "Epoch 13/50\n",
      "50/50 [==============================] - 1s 22ms/step - loss: 2.5783 - accuracy: 0.9168 - val_loss: 3.1295 - val_accuracy: 0.3940\n",
      "Epoch 14/50\n",
      "50/50 [==============================] - 1s 23ms/step - loss: 2.3169 - accuracy: 0.9320 - val_loss: 2.9921 - val_accuracy: 0.4136\n",
      "Epoch 15/50\n",
      "50/50 [==============================] - 1s 23ms/step - loss: 2.0504 - accuracy: 0.9504 - val_loss: 2.8616 - val_accuracy: 0.4288\n",
      "Epoch 16/50\n",
      "50/50 [==============================] - 1s 23ms/step - loss: 1.7903 - accuracy: 0.9620 - val_loss: 2.7424 - val_accuracy: 0.4480\n",
      "Epoch 17/50\n",
      "50/50 [==============================] - 1s 22ms/step - loss: 1.5438 - accuracy: 0.9764 - val_loss: 2.6362 - val_accuracy: 0.4516\n",
      "Epoch 18/50\n",
      "50/50 [==============================] - 1s 22ms/step - loss: 1.3158 - accuracy: 0.9856 - val_loss: 2.5438 - val_accuracy: 0.4572\n",
      "Epoch 19/50\n",
      "50/50 [==============================] - 1s 21ms/step - loss: 1.1100 - accuracy: 0.9908 - val_loss: 2.4646 - val_accuracy: 0.4640\n",
      "Epoch 20/50\n",
      "50/50 [==============================] - 1s 22ms/step - loss: 0.9284 - accuracy: 0.9948 - val_loss: 2.3970 - val_accuracy: 0.4724\n",
      "Epoch 21/50\n",
      "50/50 [==============================] - 1s 23ms/step - loss: 0.7723 - accuracy: 0.9964 - val_loss: 2.3395 - val_accuracy: 0.4788\n",
      "Epoch 22/50\n",
      "50/50 [==============================] - 1s 24ms/step - loss: 0.6407 - accuracy: 0.9988 - val_loss: 2.2912 - val_accuracy: 0.4800\n",
      "Epoch 23/50\n",
      "50/50 [==============================] - 1s 23ms/step - loss: 0.5320 - accuracy: 0.9996 - val_loss: 2.2502 - val_accuracy: 0.4796\n",
      "Epoch 24/50\n",
      "50/50 [==============================] - 1s 21ms/step - loss: 0.4432 - accuracy: 1.0000 - val_loss: 2.2149 - val_accuracy: 0.4784\n",
      "Epoch 25/50\n",
      "50/50 [==============================] - 1s 21ms/step - loss: 0.3713 - accuracy: 1.0000 - val_loss: 2.1848 - val_accuracy: 0.4788\n",
      "Epoch 26/50\n",
      "50/50 [==============================] - 1s 22ms/step - loss: 0.3133 - accuracy: 1.0000 - val_loss: 2.1589 - val_accuracy: 0.4768\n",
      "Epoch 27/50\n",
      "50/50 [==============================] - 1s 21ms/step - loss: 0.2666 - accuracy: 1.0000 - val_loss: 2.1364 - val_accuracy: 0.4776\n",
      "Epoch 28/50\n",
      "50/50 [==============================] - 1s 22ms/step - loss: 0.2287 - accuracy: 1.0000 - val_loss: 2.1164 - val_accuracy: 0.4760\n",
      "Epoch 29/50\n",
      "50/50 [==============================] - 1s 22ms/step - loss: 0.1980 - accuracy: 1.0000 - val_loss: 2.0987 - val_accuracy: 0.4768\n",
      "Epoch 30/50\n",
      "50/50 [==============================] - 1s 23ms/step - loss: 0.1727 - accuracy: 1.0000 - val_loss: 2.0832 - val_accuracy: 0.4768\n",
      "Epoch 31/50\n",
      "50/50 [==============================] - 1s 22ms/step - loss: 0.1518 - accuracy: 1.0000 - val_loss: 2.0692 - val_accuracy: 0.4764\n",
      "Epoch 32/50\n",
      "50/50 [==============================] - 1s 22ms/step - loss: 0.1344 - accuracy: 1.0000 - val_loss: 2.0569 - val_accuracy: 0.4788\n",
      "Epoch 33/50\n",
      "50/50 [==============================] - 1s 22ms/step - loss: 0.1198 - accuracy: 1.0000 - val_loss: 2.0455 - val_accuracy: 0.4788\n",
      "Epoch 34/50\n",
      "50/50 [==============================] - 1s 23ms/step - loss: 0.1074 - accuracy: 1.0000 - val_loss: 2.0352 - val_accuracy: 0.4792\n",
      "Epoch 35/50\n",
      "50/50 [==============================] - 1s 23ms/step - loss: 0.0969 - accuracy: 1.0000 - val_loss: 2.0256 - val_accuracy: 0.4808\n",
      "Epoch 36/50\n",
      "50/50 [==============================] - 1s 21ms/step - loss: 0.0878 - accuracy: 1.0000 - val_loss: 2.0170 - val_accuracy: 0.4804\n",
      "Epoch 37/50\n",
      "50/50 [==============================] - 1s 22ms/step - loss: 0.0799 - accuracy: 1.0000 - val_loss: 2.0090 - val_accuracy: 0.4804\n",
      "Epoch 38/50\n",
      "50/50 [==============================] - 1s 22ms/step - loss: 0.0731 - accuracy: 1.0000 - val_loss: 2.0016 - val_accuracy: 0.4828\n",
      "Epoch 39/50\n",
      "50/50 [==============================] - 1s 22ms/step - loss: 0.0671 - accuracy: 1.0000 - val_loss: 1.9948 - val_accuracy: 0.4832\n",
      "Epoch 40/50\n",
      "50/50 [==============================] - 1s 22ms/step - loss: 0.0617 - accuracy: 1.0000 - val_loss: 1.9883 - val_accuracy: 0.4828\n",
      "Epoch 41/50\n",
      "50/50 [==============================] - 1s 21ms/step - loss: 0.0570 - accuracy: 1.0000 - val_loss: 1.9825 - val_accuracy: 0.4832\n",
      "Epoch 42/50\n",
      "50/50 [==============================] - 1s 21ms/step - loss: 0.0528 - accuracy: 1.0000 - val_loss: 1.9767 - val_accuracy: 0.4840\n",
      "Epoch 43/50\n",
      "50/50 [==============================] - 1s 23ms/step - loss: 0.0491 - accuracy: 1.0000 - val_loss: 1.9716 - val_accuracy: 0.4848\n",
      "Epoch 44/50\n",
      "50/50 [==============================] - 1s 22ms/step - loss: 0.0457 - accuracy: 1.0000 - val_loss: 1.9667 - val_accuracy: 0.4852\n",
      "Epoch 45/50\n",
      "50/50 [==============================] - 1s 21ms/step - loss: 0.0427 - accuracy: 1.0000 - val_loss: 1.9620 - val_accuracy: 0.4840\n",
      "Epoch 46/50\n",
      "50/50 [==============================] - 1s 21ms/step - loss: 0.0399 - accuracy: 1.0000 - val_loss: 1.9576 - val_accuracy: 0.4856\n",
      "Epoch 47/50\n",
      "50/50 [==============================] - 1s 21ms/step - loss: 0.0374 - accuracy: 1.0000 - val_loss: 1.9535 - val_accuracy: 0.4852\n",
      "Epoch 48/50\n",
      "50/50 [==============================] - 1s 21ms/step - loss: 0.0351 - accuracy: 1.0000 - val_loss: 1.9496 - val_accuracy: 0.4860\n",
      "Epoch 49/50\n",
      "50/50 [==============================] - 1s 23ms/step - loss: 0.0330 - accuracy: 1.0000 - val_loss: 1.9458 - val_accuracy: 0.4876\n",
      "Epoch 50/50\n",
      "50/50 [==============================] - 1s 25ms/step - loss: 0.0311 - accuracy: 1.0000 - val_loss: 1.9423 - val_accuracy: 0.4880\n"
     ]
    }
   ],
   "source": [
    "# `vocab_size` is `VOCAB_SIZE + 1` since `0` is used additionally for padding.\n",
    "int_model = create_model(vocab_size=VOCAB_SIZE + 1, num_labels=4)\n",
    "int_model.compile(\n",
    "    loss= SparseCategoricalCrossentropy(from_logits=True),\n",
    "    optimizer='adam',\n",
    "    metrics=['accuracy'])\n",
    "history = int_model.fit(int_train_ds,\n",
    "                        epochs = 50, \n",
    "                        batch_size = 26, \n",
    "                        validation_data = int_test_ds)"
   ]
  },
  {
   "cell_type": "code",
   "execution_count": 37,
   "id": "7bb2d5b8",
   "metadata": {},
   "outputs": [],
   "source": []
  },
  {
   "cell_type": "code",
   "execution_count": null,
   "id": "5d07b09a",
   "metadata": {},
   "outputs": [],
   "source": []
  }
 ],
 "metadata": {
  "kernelspec": {
   "display_name": "Python 3",
   "language": "python",
   "name": "python3"
  },
  "language_info": {
   "codemirror_mode": {
    "name": "ipython",
    "version": 3
   },
   "file_extension": ".py",
   "mimetype": "text/x-python",
   "name": "python",
   "nbconvert_exporter": "python",
   "pygments_lexer": "ipython3",
   "version": "3.8.8"
  }
 },
 "nbformat": 4,
 "nbformat_minor": 5
}
